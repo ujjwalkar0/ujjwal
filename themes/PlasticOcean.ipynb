{
  "nbformat": 4,
  "nbformat_minor": 0,
  "metadata": {
    "colab": {
      "name": "PlasticOcean.ipynb",
      "private_outputs": true,
      "provenance": [],
      "authorship_tag": "ABX9TyMeAw22fvRwFU3KvtERx8CK",
      "include_colab_link": true
    },
    "kernelspec": {
      "name": "python3",
      "display_name": "Python 3"
    },
    "language_info": {
      "name": "python"
    },
    "accelerator": "GPU"
  },
  "cells": [
    {
      "cell_type": "markdown",
      "metadata": {
        "id": "view-in-github",
        "colab_type": "text"
      },
      "source": [
        "<a href=\"https://colab.research.google.com/github/ujjwalkar0/ujjwal/blob/master/themes/PlasticOcean.ipynb\" target=\"_parent\"><img src=\"https://colab.research.google.com/assets/colab-badge.svg\" alt=\"Open In Colab\"/></a>"
      ]
    },
    {
      "cell_type": "code",
      "metadata": {
        "id": "n2aCkAAgCjCS"
      },
      "source": [
        "# Mounting google drive file and folders in our colab notebook\n",
        "from google.colab import drive\n",
        "drive.mount('/content/gdrive')"
      ],
      "execution_count": null,
      "outputs": []
    },
    {
      "cell_type": "code",
      "metadata": {
        "id": "Z1uiiyAhCnIo"
      },
      "source": [
        "!pwd   # Check working dir\n",
        "!ls    # Check files and dirs of this dir"
      ],
      "execution_count": null,
      "outputs": []
    },
    {
      "cell_type": "code",
      "metadata": {
        "id": "kEeMd0TqEgIp"
      },
      "source": [
        "%cd gdrive/MyDrive/\n",
        "!ls"
      ],
      "execution_count": null,
      "outputs": []
    },
    {
      "cell_type": "code",
      "metadata": {
        "id": "ijPWNQT2Ej6R"
      },
      "source": [
        "# Make a dir 'PlasticOcean'\n",
        "%mkdir -p PlasticOcean"
      ],
      "execution_count": null,
      "outputs": []
    },
    {
      "cell_type": "code",
      "metadata": {
        "id": "CnX0tvn5E2Gt"
      },
      "source": [
        "# Enter to 'PlasticOcean'\n",
        "%cd PlasticOcean"
      ],
      "execution_count": null,
      "outputs": []
    },
    {
      "cell_type": "code",
      "metadata": {
        "id": "gj7fc2j-Fppr"
      },
      "source": [
        "# check files and folder\n",
        "!ls"
      ],
      "execution_count": null,
      "outputs": []
    },
    {
      "cell_type": "code",
      "metadata": {
        "id": "hLEQem1NF4df"
      },
      "source": [
        "# Cloning Darknet Repo\n",
        "!git clone https://github.com/AlexeyAB/darknet"
      ],
      "execution_count": null,
      "outputs": []
    },
    {
      "cell_type": "code",
      "metadata": {
        "id": "yeEnr1VnF-Ms"
      },
      "source": [
        "# enter to darknet\n",
        "%cd darknet"
      ],
      "execution_count": null,
      "outputs": []
    },
    {
      "cell_type": "code",
      "metadata": {
        "id": "ZD3m8uzYGKjw"
      },
      "source": [
        "# See files and folders on darknet\n",
        "!ls"
      ],
      "execution_count": null,
      "outputs": []
    },
    {
      "cell_type": "code",
      "metadata": {
        "id": "UM1sl4UzGMz1"
      },
      "source": [
        "# Make Some changes on Makefile,\n",
        "# Note: If you are in colab and not running with gpu then run it. \n",
        "# Skip this section if you are working without gpu\n",
        "\n",
        "!sed -i 's/OPENCV=0/OPENCV=1/' Makefile\n",
        "!sed -i 's/GPU=0/GPU=1/' Makefile\n",
        "!sed -i 's/CUDNN=0/CUDNN=1/' Makefile\n",
        "!sed -i 's/CUDNN_HALF=0/CUDNN_HALF=1/' Makefile\n",
        "!sed -i 's/LIBSO=0/LIBSO=1/' Makefile\n",
        "!sed -i 's/OPENMP=0/OPENMP=1/' Makefile"
      ],
      "execution_count": null,
      "outputs": []
    },
    {
      "cell_type": "code",
      "metadata": {
        "id": "RuQaMmS6Gp59"
      },
      "source": [
        "!make"
      ],
      "execution_count": null,
      "outputs": []
    },
    {
      "cell_type": "code",
      "metadata": {
        "id": "l-va0ow3GtAS"
      },
      "source": [
        "# Delete Unnecessary cfg files and download necessary one\n",
        "%cd cfg\n",
        "!rm -rf *\n",
        "!wget https://raw.githubusercontent.com/ujjwalkar0/Garuda/master/Train%20Datasets/yolov4-custom-train.cfg\n",
        "%cd .."
      ],
      "execution_count": null,
      "outputs": []
    },
    {
      "cell_type": "code",
      "metadata": {
        "id": "Y0IpXSeDJuvb"
      },
      "source": [
        "!ls cfg"
      ],
      "execution_count": null,
      "outputs": []
    },
    {
      "cell_type": "code",
      "metadata": {
        "id": "ayL5sSgSJzyA"
      },
      "source": [
        "# Delete unwanted data ( all everything in data/ without lebel folder)\n",
        "!rm data/*"
      ],
      "execution_count": null,
      "outputs": []
    },
    {
      "cell_type": "code",
      "metadata": {
        "id": "LgffYwV7LUbm"
      },
      "source": [
        "# Download Trash_Plastic Data\n",
        "%cd data\n",
        "!wget https://raw.githubusercontent.com/ujjwalkar0/Garuda/master/Train%20Datasets/DeepTrash-Yolov4.zip\n",
        "!unzip DeepTrash-Yolov4.zip\n",
        "!rm DeepTrash-Yolov4.zip\n",
        "%cd .."
      ],
      "execution_count": null,
      "outputs": []
    },
    {
      "cell_type": "code",
      "metadata": {
        "id": "WVZbj4XqLgKZ"
      },
      "source": [
        "%cp data/train/_darknet.labels data/obj.names\n",
        "%mkdir data/obj\n",
        "#copy image and labels\n",
        "%cp data/train/*.jpg data/obj/\n",
        "%cp data/valid/*.jpg data/obj/\n",
        "%cp data/train/*.txt data/obj/\n",
        "%cp data/valid/*.txt data/obj/\n",
        "\n",
        "with open('data/obj.data', 'w') as out:\n",
        "  out.write('classes = 1\\n')\n",
        "  out.write('train = data/train.txt\\n')\n",
        "  out.write('valid = data/valid.txt\\n')\n",
        "  out.write('names = data/obj.names\\n')\n",
        "  out.write('backup = backup/')\n",
        "\n",
        "%cd data\n",
        "\n",
        "#write train file (just the image list)\n",
        "import os\n",
        "\n",
        "with open('train.txt', 'w') as out:\n",
        "  for img in [f for f in os.listdir('train') if f.endswith('jpg')]:\n",
        "    out.write('data/obj/' + img + '\\n')\n",
        "\n",
        "#write the valid file (just the image list)\n",
        "import os\n",
        "\n",
        "with open('valid.txt', 'w') as out:\n",
        "  for img in [f for f in os.listdir('valid') if f.endswith('jpg')]:\n",
        "    out.write('data/obj/' + img + '\\n')\n",
        "\n",
        "%cd .."
      ],
      "execution_count": null,
      "outputs": []
    },
    {
      "cell_type": "code",
      "metadata": {
        "id": "oFU8v3DZRSby"
      },
      "source": [
        "# Make darknet executable\n",
        "\n",
        "!chmod +x darknet"
      ],
      "execution_count": null,
      "outputs": []
    },
    {
      "cell_type": "code",
      "metadata": {
        "id": "ORJbjtGJaSmJ"
      },
      "source": [
        "# download pretrained weights\n",
        "\n",
        "!wget https://github.com/AlexeyAB/darknet/releases/download/darknet_yolo_v3_optimal/yolov4.conv.137"
      ],
      "execution_count": null,
      "outputs": []
    },
    {
      "cell_type": "code",
      "metadata": {
        "id": "VP62Beb-0kct"
      },
      "source": [
        ""
      ],
      "execution_count": null,
      "outputs": []
    },
    {
      "cell_type": "code",
      "metadata": {
        "id": "pNeJhMzuRZMI"
      },
      "source": [
        "# Finally train dataset\n",
        "\n",
        "!./darknet detector train data/obj.data cfg/yolov4-custom-train.cfg yolov4.conv.137 -dont_show -map"
      ],
      "execution_count": null,
      "outputs": []
    },
    {
      "cell_type": "code",
      "metadata": {
        "id": "_9O5Yr5sRuIK"
      },
      "source": [
        "!ls"
      ],
      "execution_count": null,
      "outputs": []
    },
    {
      "cell_type": "code",
      "metadata": {
        "id": "fe5nxPAXVLv1"
      },
      "source": [
        ""
      ],
      "execution_count": null,
      "outputs": []
    },
    {
      "cell_type": "code",
      "metadata": {
        "id": "zKLl4xlDVRsG"
      },
      "source": [
        ""
      ],
      "execution_count": null,
      "outputs": []
    },
    {
      "cell_type": "code",
      "metadata": {
        "id": "n_dI_99_VWHe"
      },
      "source": [
        ""
      ],
      "execution_count": null,
      "outputs": []
    },
    {
      "cell_type": "code",
      "metadata": {
        "id": "EoImoiwGZqAP"
      },
      "source": [
        "rm url?sa=t"
      ],
      "execution_count": null,
      "outputs": []
    },
    {
      "cell_type": "code",
      "metadata": {
        "id": "Idd_-3_rZtVG"
      },
      "source": [
        ""
      ],
      "execution_count": null,
      "outputs": []
    }
  ]
}